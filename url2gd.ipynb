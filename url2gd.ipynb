{
  "cells": [
    {
      "cell_type": "markdown",
      "metadata": {
        "id": "view-in-github",
        "colab_type": "text"
      },
      "source": [
        "<a href=\"https://colab.research.google.com/github/rjsheesh/RJ-Sheesh/blob/master/url2gd.ipynb\" target=\"_parent\"><img src=\"https://colab.research.google.com/assets/colab-badge.svg\" alt=\"Open In Colab\"/></a>"
      ]
    },
    {
      "cell_type": "code",
      "execution_count": null,
      "metadata": {
        "colab": {
          "base_uri": "https://localhost:8080/"
        },
        "id": "DIxrhgpx3_Zm",
        "outputId": "f6a06ca9-0f8d-4770-ed01-83f583d063b6"
      },
      "outputs": [
        {
          "output_type": "stream",
          "name": "stdout",
          "text": [
            "Drive already mounted at /content/drive/; to attempt to forcibly remount, call drive.mount(\"/content/drive/\", force_remount=True).\n"
          ]
        }
      ],
      "source": [
        "from google.colab import drive\n",
        "drive.mount('/content/drive/')"
      ]
    },
    {
      "cell_type": "code",
      "execution_count": null,
      "metadata": {
        "id": "aG0xKxv04dkh"
      },
      "outputs": [],
      "source": [
        "import requests\n",
        "import shutil\n",
        "from tqdm.auto import tqdm\n",
        "url = input(\"Enter Direct URL: \")\n",
        "name = url.split(\"/\")\n",
        "final = name[5]\n",
        "\n",
        "with requests.get(url, stream=True) as r:\n",
        "    total_length = int(r.headers.get(\"Content-Length\"))\n",
        "    with tqdm.wrapattr(r.raw, \"read\", total=total_length, desc=\"\") as raw:\n",
        "        with open(f\"/content/drive/My Drive/\"+final, 'wb')as output:\n",
        "            shutil.copyfileobj(raw, output)"
      ]
    }
  ],
  "metadata": {
    "colab": {
      "provenance": [],
      "include_colab_link": true
    },
    "kernelspec": {
      "display_name": "Python 3",
      "name": "python3"
    },
    "language_info": {
      "name": "python"
    }
  },
  "nbformat": 4,
  "nbformat_minor": 0
}