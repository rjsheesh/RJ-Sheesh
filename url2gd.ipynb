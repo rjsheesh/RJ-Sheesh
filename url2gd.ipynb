{
  "cells": [
    {
      "cell_type": "markdown",
      "metadata": {
        "id": "view-in-github",
        "colab_type": "text"
      },
      "source": [
        "<a href=\"https://colab.research.google.com/github/rjsheesh/RJ-Sheesh/blob/master/url2gd.ipynb\" target=\"_parent\"><img src=\"https://colab.research.google.com/assets/colab-badge.svg\" alt=\"Open In Colab\"/></a>"
      ]
    },
    {
      "cell_type": "code",
      "source": [
        "from google.colab import drive\n",
        "drive.mount('/content/drive/')"
      ],
      "metadata": {
        "id": "ltRKEO-YOzWJ",
        "outputId": "5033f204-b496-4295-fe05-12b9d29607fc",
        "colab": {
          "base_uri": "https://localhost:8080/"
        }
      },
      "execution_count": null,
      "outputs": [
        {
          "output_type": "stream",
          "name": "stdout",
          "text": [
            "Mounted at /content/drive/\n"
          ]
        }
      ]
    },
    {
      "cell_type": "code",
      "source": [
        "import os\n",
        "import threading\n",
        "import requests\n",
        "from tqdm.auto import tqdm\n",
        "\n",
        "def download_part(url, start, end, part_file, pbar, retries=5):\n",
        "    headers = {'Range': f'bytes={start}-{end}'}\n",
        "    for attempt in range(retries):\n",
        "        try:\n",
        "            with requests.get(url, headers=headers, stream=True, timeout=30) as r:\n",
        "                r.raise_for_status()\n",
        "                with open(part_file, \"wb\") as f:\n",
        "                    for chunk in r.iter_content(chunk_size=1024):\n",
        "                        if chunk:\n",
        "                            f.write(chunk)\n",
        "                            pbar.update(len(chunk))\n",
        "            break\n",
        "        except Exception as e:\n",
        "            if attempt < retries - 1:\n",
        "                print(f\"পার্ট {part_file} ডাউনলোডে সমস্যা, আবার চেষ্টা করছি... ({attempt+1}/{retries})\")\n",
        "            else:\n",
        "                raise Exception(f\"পার্ট {part_file} ডাউনলোড ব্যর্থ: {e}\")\n",
        "\n",
        "def merge_parts(part_files, output_file):\n",
        "    with open(output_file, 'wb') as outfile:\n",
        "        for part_file in part_files:\n",
        "            with open(part_file, 'rb') as infile:\n",
        "                outfile.write(infile.read())\n",
        "            os.remove(part_file)  # পার্ট ফাইলগুলো ডিলিট করি\n",
        "\n",
        "def smart_downloader(url, output_path, num_threads=4):\n",
        "    response = requests.head(url)\n",
        "    if 'Content-Length' not in response.headers:\n",
        "        raise Exception(\"সার্ভার Content-Length দেয়নি, মাল্টি-পার্ট ডাউনলোড সম্ভব না।\")\n",
        "\n",
        "    total_size = int(response.headers['Content-Length'])\n",
        "    part_size = total_size // num_threads\n",
        "\n",
        "    part_files = []\n",
        "    threads = []\n",
        "    pbar = tqdm(total=total_size, unit='B', unit_scale=True, desc=os.path.basename(output_path))\n",
        "\n",
        "    for i in range(num_threads):\n",
        "        start = part_size * i\n",
        "        end = start + part_size - 1 if i != num_threads - 1 else total_size - 1\n",
        "        part_file = f\"{output_path}.part{i}\"\n",
        "        part_files.append(part_file)\n",
        "        t = threading.Thread(target=download_part, args=(url, start, end, part_file, pbar))\n",
        "        t.start()\n",
        "        threads.append(t)\n",
        "\n",
        "    for t in threads:\n",
        "        t.join()\n",
        "\n",
        "    pbar.close()\n",
        "\n",
        "    merge_parts(part_files, output_path)\n",
        "    print(\"\\nডাউনলোড সফলভাবে সম্পূর্ণ হয়েছে!\")\n",
        "\n",
        "if __name__ == \"__main__\":\n",
        "    url = input(\"ডাইরেক্ট URL দাও: \").strip()\n",
        "    final_name = url.split(\"/\")[-1]\n",
        "    save_path = f\"/content/drive/Shareddrives/15/Torrent/{final_name}\"\n",
        "\n",
        "    threads = input(\"কতটা থ্রেডে নামাতে চাও? (ডিফল্ট ৪): \").strip()\n",
        "    threads = int(threads) if threads.isdigit() else 4\n",
        "\n",
        "    smart_downloader(url, save_path, num_threads=threads)"
      ],
      "metadata": {
        "id": "NCnG4QQZO6F-"
      },
      "execution_count": null,
      "outputs": []
    }
  ],
  "metadata": {
    "colab": {
      "provenance": [],
      "include_colab_link": true
    },
    "kernelspec": {
      "display_name": "Python 3",
      "name": "python3"
    },
    "language_info": {
      "name": "python"
    }
  },
  "nbformat": 4,
  "nbformat_minor": 0
}